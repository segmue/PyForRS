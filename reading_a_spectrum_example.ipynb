{
 "cells": [
  {
   "cell_type": "markdown",
   "id": "f3cf0f1c-58d1-42db-9b58-5889a669b39c",
   "metadata": {},
   "source": [
    "# Different ways for reading a spectrum"
   ]
  },
  {
   "cell_type": "code",
   "execution_count": 12,
   "id": "67981be6-535a-4809-891c-4219be7157f7",
   "metadata": {},
   "outputs": [],
   "source": [
    "%matplotlib inline\n",
    "\n",
    "import matplotlib.pyplot as plt\n",
    "import numpy as np"
   ]
  },
  {
   "cell_type": "code",
   "execution_count": 13,
   "id": "6a16890e-2917-4723-b992-b2eea76e88f3",
   "metadata": {},
   "outputs": [
    {
     "name": "stdout",
     "output_type": "stream",
     "text": [
      "[  250.   251.   252. ...  9998.  9999. 10000.] [63.52968   43.95971   29.09898   ...  0.2441999  0.2441391  0.243612 ]\n"
     ]
    }
   ],
   "source": [
    "wavelengths = []\n",
    "irradiances = []\n",
    "\n",
    "with open(\"kurudz_1.0nm.dat\") as input_file:\n",
    "    for line in input_file:\n",
    "        if not line.startswith(\"#\"):\n",
    "            \n",
    "            wavelength, irradiance = line.split()\n",
    "            \n",
    "            wavelength = float(wavelength)\n",
    "            irradiance = float(irradiance)\n",
    "            \n",
    "            wavelengths.append(wavelength)\n",
    "            irradiances.append(irradiance)\n",
    "        \n",
    "wavelengths = np.array(wavelengths)\n",
    "irradiances = np.array(irradiances)\n",
    "        \n",
    "print(wavelengths, irradiances)\n",
    "        \n"
   ]
  },
  {
   "cell_type": "code",
   "execution_count": 14,
   "id": "d0cf338c-ae18-4fc3-9c76-136790773028",
   "metadata": {},
   "outputs": [
    {
     "data": {
      "text/plain": [
       "[<matplotlib.lines.Line2D at 0x7f8190c712b0>]"
      ]
     },
     "execution_count": 14,
     "metadata": {},
     "output_type": "execute_result"
    },
    {
     "data": {
      "image/png": "[encoded data removed]",
      "text/plain": [
       "<Figure size 432x288 with 1 Axes>"
      ]
     },
     "metadata": {
      "needs_background": "light"
     },
     "output_type": "display_data"
    }
   ],
   "source": [
    "plt.plot(wavelengths, irradiances)"
   ]
  },
  {
   "cell_type": "code",
   "execution_count": 18,
   "id": "46ca5269-1faa-436c-9dfd-7879530333ba",
   "metadata": {},
   "outputs": [
    {
     "data": {
      "text/plain": [
       "[<matplotlib.lines.Line2D at 0x7f8190ae4580>]"
      ]
     },
     "execution_count": 18,
     "metadata": {},
     "output_type": "execute_result"
    },
    {
     "data": {
      "image/png": "[encoded data removed]",
      "text/plain": [
       "<Figure size 432x288 with 1 Axes>"
      ]
     },
     "metadata": {
      "needs_background": "light"
     },
     "output_type": "display_data"
    }
   ],
   "source": [
    "wavelengths, irradiances = np.loadtxt(\"kurudz_1.0nm.dat\", unpack=True)\n",
    "plt.plot(wavelengths, irradiances)"
   ]
  },
  {
   "cell_type": "code",
   "execution_count": null,
   "id": "7fca5a4a-e720-4d8f-be7c-eb4a85cd3dc2",
   "metadata": {},
   "outputs": [],
   "source": []
  }
 ],
 "metadata": {
  "kernelspec": {
   "display_name": "Python 3 (ipykernel)",
   "language": "python",
   "name": "python3"
  },
  "language_info": {
   "codemirror_mode": {
    "name": "ipython",
    "version": 3
   },
   "file_extension": ".py",
   "mimetype": "text/x-python",
   "name": "python",
   "nbconvert_exporter": "python",
   "pygments_lexer": "ipython3",
   "version": "3.9.9"
  }
 },
 "nbformat": 4,
 "nbformat_minor": 5
}
