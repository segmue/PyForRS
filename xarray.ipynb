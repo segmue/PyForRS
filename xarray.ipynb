{
 "cells": [
  {
   "cell_type": "markdown",
   "metadata": {},
   "source": [
    "# netCDF files in Python\n",
    "\n",
    "The `xarray` library provides `DataArray` (netCDF variables) and `Dataset` (netCDF groups/file) objects for in-memory netCDF files.\n",
    "\n",
    "## Example"
   ]
  },
  {
   "cell_type": "markdown",
   "metadata": {},
   "source": [
    "In this example, we read a solar spectrum from a text file and convert it to a netCDF using the xarray package."
   ]
  },
  {
   "cell_type": "code",
   "execution_count": 1,
   "metadata": {},
   "outputs": [],
   "source": [
    "import matplotlib.pyplot as plt\n",
    "import numpy as np\n",
    "import xarray\n",
    "\n",
    "FILENAME = \"/usr/local/share/libRadtran/data/solar_flux/kurudz_1.0nm.dat\""
   ]
  },
  {
   "cell_type": "markdown",
   "metadata": {},
   "source": [
    "The spectrum is stored in a text file given by `FILENAME`. Before you can read it into Python, you should have a first glance at the data format, for example, by opening it with a text editor in JupyterHub. Alternatively, you can use magic commands available in Jupyter:"
   ]
  },
  {
   "cell_type": "code",
   "execution_count": null,
   "metadata": {},
   "outputs": [],
   "source": [
    "%more $FILENAME"
   ]
  },
  {
   "cell_type": "markdown",
   "metadata": {},
   "source": [
    "Note: Magic commands are not Python code, but provide additional features for interactive computing. Jupyter knows many magic commands, which start with a `%`-sign. You can use `%lsmagic` to list all available magic commands."
   ]
  },
  {
   "cell_type": "markdown",
   "metadata": {},
   "source": [
    "This file can be read easiest with `np.loadtxt`:"
   ]
  },
  {
   "cell_type": "code",
   "execution_count": null,
   "metadata": {},
   "outputs": [],
   "source": [
    "wavelength, irradiance = np.loadtxt(FILENAME, unpack=True)"
   ]
  },
  {
   "cell_type": "markdown",
   "metadata": {},
   "source": [
    "Let's have a first look at `wavelength` and `irradiance`:"
   ]
  },
  {
   "cell_type": "code",
   "execution_count": null,
   "metadata": {},
   "outputs": [],
   "source": [
    "wavelength"
   ]
  },
  {
   "cell_type": "code",
   "execution_count": null,
   "metadata": {},
   "outputs": [],
   "source": [
    "irradiance"
   ]
  },
  {
   "cell_type": "markdown",
   "metadata": {},
   "source": [
    "And let's make a quick plot to check if everyting is fine:"
   ]
  },
  {
   "cell_type": "code",
   "execution_count": null,
   "metadata": {},
   "outputs": [],
   "source": [
    "plt.plot(wavelength, irradiance)"
   ]
  },
  {
   "cell_type": "markdown",
   "metadata": {},
   "source": [
    "This looks okay, but lacks any metadata such as names and units."
   ]
  },
  {
   "cell_type": "markdown",
   "metadata": {},
   "source": [
    "We can use `xarray.DataArray` to create a data variable with values, attributes and dimensions for `wavelength`:"
   ]
  },
  {
   "cell_type": "code",
   "execution_count": null,
   "metadata": {},
   "outputs": [],
   "source": [
    "attrs = {\n",
    "    'long_name': 'vacuum wavelength',\n",
    "    'units': 'nm'\n",
    "}\n",
    "wavelength = xarray.DataArray(\n",
    "    data=wavelength,\n",
    "    name='wavelength',\n",
    "    dims=('wavelength',),\n",
    "    attrs=attrs\n",
    ")\n",
    "wavelength"
   ]
  },
  {
   "cell_type": "markdown",
   "metadata": {},
   "source": [
    "Next, we can also create `xarray.DataArray` for `irradiance` using `wavelength` as coordinates:"
   ]
  },
  {
   "cell_type": "code",
   "execution_count": null,
   "metadata": {},
   "outputs": [],
   "source": [
    "attrs = {\n",
    "    'long_name': 'spectral irradiance',\n",
    "    'units': 'mW m-2 nm-1',\n",
    "    'reference': (\n",
    "        'Kurucz, R.L., Synthetic infrared spectra, in Infrared Solar Physics, IAU Symp. 154, '\n",
    "        'edited by D.M. Rabin and J.T. Jefferies, Kluwer, Acad., Norwell, MA, 1992.'\n",
    "    )\n",
    "}\n",
    "coords = {\n",
    "    'wavelength': wavelength\n",
    "}\n",
    "\n",
    "irradiance = xarray.DataArray(\n",
    "    data=irradiance,\n",
    "    name='irradiance',\n",
    "    dims=('wavelength',),\n",
    "    coords=coords,\n",
    "    attrs=attrs\n",
    ")\n",
    "irradiance"
   ]
  },
  {
   "cell_type": "markdown",
   "metadata": {},
   "source": [
    "We can now plot `irradiance` using the plot function:"
   ]
  },
  {
   "cell_type": "code",
   "execution_count": null,
   "metadata": {},
   "outputs": [],
   "source": [
    "irradiance.plot()"
   ]
  },
  {
   "cell_type": "markdown",
   "metadata": {},
   "source": [
    "We can also save `irradiance` as netCDF file for later use:"
   ]
  },
  {
   "cell_type": "code",
   "execution_count": null,
   "metadata": {},
   "outputs": [],
   "source": [
    "irradiance.to_netcdf(\"kurudz_1.0nm.nc\")"
   ]
  },
  {
   "cell_type": "code",
   "execution_count": null,
   "metadata": {},
   "outputs": [],
   "source": [
    "%ls -l"
   ]
  },
  {
   "cell_type": "code",
   "execution_count": null,
   "metadata": {},
   "outputs": [],
   "source": []
  }
 ],
 "metadata": {
  "kernelspec": {
   "display_name": "Python 3 (ipykernel)",
   "language": "python",
   "name": "python3"
  },
  "language_info": {
   "codemirror_mode": {
    "name": "ipython",
    "version": 3
   },
   "file_extension": ".py",
   "mimetype": "text/x-python",
   "name": "python",
   "nbconvert_exporter": "python",
   "pygments_lexer": "ipython3",
   "version": "3.9.9"
  }
 },
 "nbformat": 4,
 "nbformat_minor": 4
}
